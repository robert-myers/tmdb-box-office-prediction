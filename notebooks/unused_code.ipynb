{
 "cells": [
  {
   "cell_type": "code",
   "execution_count": null,
   "metadata": {},
   "outputs": [],
   "source": [
    "for i, (x, y) in enumerate(zip(pd.read_csv(\"data/train.csv\").shape, pd.read_csv(\"data/test.csv\").shape)):\n",
    "    print(x) if x > y else print(y) if i else print(x + y)"
   ]
  },
  {
   "cell_type": "code",
   "execution_count": null,
   "metadata": {},
   "outputs": [],
   "source": [
    "df = pd.read_csv(\"data/train.csv\").merge(pd.read_csv(\"data/test.csv\"), how=\"outer\")\n",
    "df.info()"
   ]
  },
  {
   "cell_type": "code",
   "execution_count": null,
   "metadata": {},
   "outputs": [],
   "source": [
    "production_company_p_vals = {}\n",
    "significance_level = 0.05\n",
    "\n",
    "for production_company, _ in top_counts_df[\"production_companies\"][:4]:\n",
    "    for production_company2, __ in top_counts_df[\"production_companies\"][:4]:\n",
    "        if production_company == production_company2:\n",
    "            continue\n",
    "        greater_mannwhitneyu_pvalue = stats.mannwhitneyu(production_company_dfs[production_company.lower()][\"adjusted_roi\"],\n",
    "                                                         production_company_dfs[production_company2.lower()][\"adjusted_roi\"],\n",
    "                                                         alternative=\"greater\").pvalue\n",
    "        if greater_mannwhitneyu_pvalue < significance_level:\n",
    "            greater_mannwhitneyu_null = True\n",
    "        elif greater_mannwhitneyu_pvalue >= significance_level:\n",
    "            greater_mannwhitneyu_null = False\n",
    "            \n",
    "        less_mannwhitneyu_pvalue = stats.mannwhitneyu(production_company_dfs[production_company.lower()][\"adjusted_roi\"],\n",
    "                                                      production_company_dfs[production_company2.lower()][\"adjusted_roi\"],\n",
    "                                                      alternative=\"less\").pvalue\n",
    "        if less_mannwhitneyu_pvalue < significance_level:\n",
    "            less_mannwhitneyu_null = True\n",
    "        elif less_mannwhitneyu_pvalue >= significance_level:\n",
    "            less_mannwhitneyu_null = False\n",
    "            \n",
    "        production_company_p_vals[f\"{production_company} < {production_company2}\"] = greater_mannwhitneyu_pvalue, greater_mannwhitneyu_null\n",
    "        production_company_p_vals[f\"{production_company} > {production_company2}\"] = less_mannwhitneyu_pvalue, less_mannwhitneyu_null"
   ]
  },
  {
   "cell_type": "code",
   "execution_count": null,
   "metadata": {},
   "outputs": [],
   "source": [
    "for companies, val in production_company_p_vals.items():\n",
    "    print(f\"p-value for {companies}: {val[0]}\\nReject the null: {val[1]}\\n\")"
   ]
  },
  {
   "cell_type": "code",
   "execution_count": null,
   "metadata": {},
   "outputs": [],
   "source": [
    "romance_df = movie_search(train_df, \"romance\", \"genres\")\n",
    "science_fiction_df = movie_search(train_df, \"science fiction\", \"genres\")\n",
    "horror_df = movie_search(train_df, \"horror\", \"genres\")\n",
    "\n",
    "stats.mannwhitneyu(romance_df[\"adjusted_roi\"], horror_df[\"adjusted_roi\"], alternative=\"greater\")"
   ]
  }
 ],
 "metadata": {
  "kernelspec": {
   "display_name": "Python 3",
   "language": "python",
   "name": "python3"
  },
  "language_info": {
   "codemirror_mode": {
    "name": "ipython",
    "version": 3
   },
   "file_extension": ".py",
   "mimetype": "text/x-python",
   "name": "python",
   "nbconvert_exporter": "python",
   "pygments_lexer": "ipython3",
   "version": "3.7.5"
  }
 },
 "nbformat": 4,
 "nbformat_minor": 4
}
