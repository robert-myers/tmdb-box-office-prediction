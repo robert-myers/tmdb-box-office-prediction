{
 "cells": [
  {
   "cell_type": "code",
   "execution_count": null,
   "metadata": {},
   "outputs": [],
   "source": [
    "for i, (x, y) in enumerate(zip(pd.read_csv(\"data/train.csv\").shape, pd.read_csv(\"data/test.csv\").shape)):\n",
    "    print(x) if x > y else print(y) if i else print(x + y)"
   ]
  },
  {
   "cell_type": "code",
   "execution_count": null,
   "metadata": {},
   "outputs": [],
   "source": [
    "df = pd.read_csv(\"data/train.csv\").merge(pd.read_csv(\"data/test.csv\"), how=\"outer\")\n",
    "df.info()"
   ]
  },
  {
   "cell_type": "code",
   "execution_count": null,
   "metadata": {},
   "outputs": [],
   "source": [
    "production_company_p_vals = {}\n",
    "significance_level = 0.05\n",
    "\n",
    "for production_company, _ in top_counts_df[\"production_companies\"][:4]:\n",
    "    for production_company2, __ in top_counts_df[\"production_companies\"][:4]:\n",
    "        if production_company == production_company2:\n",
    "            continue\n",
    "        greater_mannwhitneyu_pvalue = stats.mannwhitneyu(production_company_dfs[production_company.lower()][\"adjusted_roi\"],\n",
    "                                                         production_company_dfs[production_company2.lower()][\"adjusted_roi\"],\n",
    "                                                         alternative=\"greater\").pvalue\n",
    "        if greater_mannwhitneyu_pvalue < significance_level:\n",
    "            greater_mannwhitneyu_null = True\n",
    "        elif greater_mannwhitneyu_pvalue >= significance_level:\n",
    "            greater_mannwhitneyu_null = False\n",
    "            \n",
    "        less_mannwhitneyu_pvalue = stats.mannwhitneyu(production_company_dfs[production_company.lower()][\"adjusted_roi\"],\n",
    "                                                      production_company_dfs[production_company2.lower()][\"adjusted_roi\"],\n",
    "                                                      alternative=\"less\").pvalue\n",
    "        if less_mannwhitneyu_pvalue < significance_level:\n",
    "            less_mannwhitneyu_null = True\n",
    "        elif less_mannwhitneyu_pvalue >= significance_level:\n",
    "            less_mannwhitneyu_null = False\n",
    "            \n",
    "        production_company_p_vals[f\"{production_company} < {production_company2}\"] = greater_mannwhitneyu_pvalue, greater_mannwhitneyu_null\n",
    "        production_company_p_vals[f\"{production_company} > {production_company2}\"] = less_mannwhitneyu_pvalue, less_mannwhitneyu_null"
   ]
  },
  {
   "cell_type": "code",
   "execution_count": null,
   "metadata": {},
   "outputs": [],
   "source": [
    "for companies, val in production_company_p_vals.items():\n",
    "    print(f\"p-value for {companies}: {val[0]}\\nReject the null: {val[1]}\\n\")"
   ]
  },
  {
   "cell_type": "code",
   "execution_count": null,
   "metadata": {},
   "outputs": [],
   "source": [
    "romance_df = movie_search(train_df, \"romance\", \"genres\")\n",
    "science_fiction_df = movie_search(train_df, \"science fiction\", \"genres\")\n",
    "horror_df = movie_search(train_df, \"horror\", \"genres\")\n",
    "\n",
    "stats.mannwhitneyu(romance_df[\"adjusted_roi\"], horror_df[\"adjusted_roi\"], alternative=\"greater\")"
   ]
  },
  {
   "cell_type": "markdown",
   "metadata": {},
   "source": [
    "### Hypothesis\n",
    "\n",
    "H<sub>0</sub>: There is no difference in the return on investment with either a Comedy or a Drama.\n",
    "\n",
    "H<sub>a</sub>: It is more likely to make at least 2x the budget in revenue with a Comedy than a Drama.\n",
    "\n",
    "##### otherwise:\n",
    "\n",
    "H<sub>0</sub>: comedy μ = drama μ\n",
    "\n",
    "H<sub>a</sub>: comedy μ > drama μ\n",
    "\n",
    "###### where μ is the average adjusted return on investment (revenue/2xbudget)\n",
    "\n",
    "$H_0$: Comedy adjusted roi is equaliy likely to be higher than Drama as the other way around.  I.e.\n",
    "\n",
    "$P(\\text{Adjusted Comedy ROI} > \\text{Adjusted Drama ROI}) = 0.5$\n",
    "\n",
    "α = 0.01"
   ]
  },
  {
   "cell_type": "code",
   "execution_count": null,
   "metadata": {},
   "outputs": [],
   "source": [
    "genre_dfs = dataframe_dictionary(df=train_df, category=\"genres\", data_to_find=top_counts_df)\n",
    "genre_p_vals = {}\n",
    "\n",
    "significance_level = 0.01\n",
    "\n",
    "for genre, genre_df in genre_dfs.items():\n",
    "    for genre2, genre_df2 in genre_dfs.items():\n",
    "        if genre == genre2:\n",
    "            continue\n",
    "        greater_mannwhitneyu_pvalue = stats.mannwhitneyu(genre_df[\"adjusted_roi\"],\n",
    "                                                         genre_df2[\"adjusted_roi\"],\n",
    "                                                         alternative=\"greater\").pvalue\n",
    "        if greater_mannwhitneyu_pvalue < significance_level:\n",
    "            greater_mannwhitneyu_null = \"reject the null hypothesis\"\n",
    "        elif greater_mannwhitneyu_pvalue >= significance_level:\n",
    "            greater_mannwhitneyu_null = \"fail to reject the null hypothesis\"\n",
    "            \n",
    "        less_mannwhitneyu_pvalue = stats.mannwhitneyu(genre_df[\"adjusted_roi\"],\n",
    "                                                      genre_df2[\"adjusted_roi\"],\n",
    "                                                      alternative=\"less\").pvalue\n",
    "        if less_mannwhitneyu_pvalue < significance_level:\n",
    "            less_mannwhitneyu_null = \"reject the null hypothesis\"\n",
    "        elif less_mannwhitneyu_pvalue >= significance_level:\n",
    "            less_mannwhitneyu_null = \"fail to reject the null hypothesis\"\n",
    "            \n",
    "        genre_p_vals[f\"{genre} > {genre2}\"] = greater_mannwhitneyu_pvalue, greater_mannwhitneyu_null\n",
    "        genre_p_vals[f\"{genre} < {genre2}\"] = less_mannwhitneyu_pvalue, less_mannwhitneyu_null"
   ]
  },
  {
   "cell_type": "code",
   "execution_count": null,
   "metadata": {},
   "outputs": [],
   "source": [
    "genre_p_vals[\"comedy > drama\"]"
   ]
  },
  {
   "cell_type": "code",
   "execution_count": null,
   "metadata": {},
   "outputs": [],
   "source": [
    "print(f\"std of sampling distribution: {148.027640/2091**0.5}\")\n",
    "train_df[\"adjusted_roi\"].describe()"
   ]
  },
  {
   "cell_type": "code",
   "execution_count": null,
   "metadata": {},
   "outputs": [],
   "source": [
    "print(f\"std of sampling distribution: {5.666494/1031**0.5}\")\n",
    "movie_search(train_df, \"drama\", \"genres\")[\"adjusted_roi\"].describe()"
   ]
  },
  {
   "cell_type": "code",
   "execution_count": null,
   "metadata": {},
   "outputs": [],
   "source": [
    "print(f\"std of sampling distribution: {4.109138/696**0.5}\")\n",
    "movie_search(train_df, \"comedy\", \"genres\")[\"adjusted_roi\"].describe()"
   ]
  },
  {
   "cell_type": "code",
   "execution_count": null,
   "metadata": {},
   "outputs": [],
   "source": [
    "binomial = stats.binom(n=num_of_samples, p=0.50)\n",
    "binomial_mean = 0.5 * num_of_samples\n",
    "binomial_var = num_of_samples * 0.5 * 0.5\n",
    "normal_approx = stats.norm(binomial_mean, np.sqrt(binomial_var))\n",
    "\n",
    "x = np.linspace(0, num_of_samples, num=num_of_samples)\n",
    "\n",
    "fig, ax = plt.subplots(figsize=(21, 5))\n",
    "\n",
    "bar_sizes = [binomial.pmf(i) for i in range(num_of_samples+1)]\n",
    "bars = ax.bar(range(num_of_samples+1), bar_sizes, color=\"black\", align=\"center\")\n",
    "\n",
    "ax.set_title(\"# of adjusted rois greater than 1 under null hypothesis\", fontsize=\"large\")\n",
    "\n",
    "ax.plot(x, normal_approx.pdf(x), linewidth=3)\n",
    "ax.set_xlim(950, 1150)\n",
    "\n",
    "plt.tight_layout()"
   ]
  },
  {
   "cell_type": "code",
   "execution_count": null,
   "metadata": {},
   "outputs": [],
   "source": [
    "p_value = 1 - normal_approx.cdf((train_df[\"adjusted_roi\"] > 1).sum() - 0.5)\n",
    "print(\"p-value for dataset:\")\n",
    "p_value"
   ]
  },
  {
   "cell_type": "code",
   "execution_count": null,
   "metadata": {},
   "outputs": [],
   "source": [
    "fig, ax = plt.subplots(1, figsize=(21, 5))\n",
    "\n",
    "ax.plot(x, normal_approx.pdf(x), linewidth=3)\n",
    "ax.set_xlim(950, 1150)\n",
    "ax.fill_between(x, normal_approx.pdf(x), \n",
    "                where=(x >= successful_movies-1), color=\"red\", alpha=0.5)\n",
    "ax.set_title(\"p-value Reigon\", fontsize=\"large\")\n",
    "\n",
    "plt.tight_layout()"
   ]
  },
  {
   "cell_type": "code",
   "execution_count": null,
   "metadata": {},
   "outputs": [],
   "source": [
    "1 - 0.08081703831494447"
   ]
  }
 ],
 "metadata": {
  "kernelspec": {
   "display_name": "Python 3",
   "language": "python",
   "name": "python3"
  },
  "language_info": {
   "codemirror_mode": {
    "name": "ipython",
    "version": 3
   },
   "file_extension": ".py",
   "mimetype": "text/x-python",
   "name": "python",
   "nbconvert_exporter": "python",
   "pygments_lexer": "ipython3",
   "version": "3.7.5"
  }
 },
 "nbformat": 4,
 "nbformat_minor": 4
}
